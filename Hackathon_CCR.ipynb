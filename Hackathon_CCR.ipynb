{
  "nbformat": 4,
  "nbformat_minor": 0,
  "metadata": {
    "colab": {
      "name": "Hackathon CCR.ipynb",
      "provenance": []
    },
    "kernelspec": {
      "name": "python3",
      "display_name": "Python 3"
    }
  },
  "cells": [
    {
      "cell_type": "code",
      "metadata": {
        "id": "zrCgA9HWWrMR"
      },
      "source": [
        "from keras.models import Sequential\r\n",
        "from keras.layers.core import Dense, Dropout, Activation\r\n",
        "from keras.utils import np_utils\r\n",
        "from keras.preprocessing.text import Tokenizer\r\n",
        "from keras import metrics\r\n",
        "from keras.layers.embeddings import Embedding\r\n",
        "from keras.preprocessing.sequence import pad_sequences\r\n",
        "from keras.preprocessing.text import one_hot\r\n",
        "from keras.layers import Flatten\r\n",
        "\r\n",
        "from nltk import word_tokenize, pos_tag, chunk\r\n",
        "from pprint import pprint\r\n",
        "from nltk.corpus import stopwords\r\n",
        "from nltk.tokenize import RegexpTokenizer\r\n",
        "from nltk.stem import WordNetLemmatizer\r\n",
        "\r\n",
        "from pprint import pprint\r\n",
        "import pandas as pd\r\n",
        "import numpy as np\r\n",
        "\r\n",
        "from keras import optimizers\r\n",
        "from keras.layers import Dense\r\n",
        "from sklearn.model_selection import GridSearchCV\r\n",
        "from keras.wrappers.scikit_learn import KerasClassifier\r\n",
        "from sklearn.model_selection import train_test_split\r\n",
        "from sklearn.preprocessing import LabelBinarizer\r\n",
        "from keras.constraints import maxnorm\r\n",
        "from keras.layers import Dropout\r\n",
        "import os"
      ],
      "execution_count": 4,
      "outputs": []
    },
    {
      "cell_type": "code",
      "metadata": {
        "id": "Y2ja5oVVWwHt"
      },
      "source": [
        "path = '/content/'\r\n",
        "filename = '25_cleaned_job_descriptions.csv'\r\n",
        "data = pd.read_csv(os.path.join(path, filename), header = 0, names = ['Query', 'Description'])"
      ],
      "execution_count": 5,
      "outputs": []
    },
    {
      "cell_type": "code",
      "metadata": {
        "id": "qa2ISUv3WwFE"
      },
      "source": [
        "train, test = train_test_split(data, test_size = 0.2)\r\n",
        "\r\n",
        "train_description = train['Description']\r\n",
        "train_labels = train['Query']\r\n",
        "test_description = test['Description']\r\n",
        "test_labels = test['Query']"
      ],
      "execution_count": 6,
      "outputs": []
    },
    {
      "cell_type": "code",
      "metadata": {
        "id": "FpYXz-ZBWwCi"
      },
      "source": [
        "num_labels = len(train_labels.unique().tolist())\r\n",
        "vocab_size = 1000\r\n",
        "batch_size = 32\r\n",
        "nb_epoch = 50\r\n",
        "\r\n",
        "tokenizer = Tokenizer(num_words=vocab_size)\r\n",
        "tokenizer.fit_on_texts(train_description)\r\n",
        "x_train = tokenizer.texts_to_matrix(train_description, mode='tfidf')\r\n",
        "x_test = tokenizer.texts_to_matrix(test_description, mode='tfidf')\r\n",
        " \r\n",
        "encoder = LabelBinarizer()\r\n",
        "encoder.fit(train_labels)\r\n",
        "y_train = encoder.transform(train_labels)\r\n",
        "y_test = encoder.transform(test_labels)"
      ],
      "execution_count": 7,
      "outputs": []
    },
    {
      "cell_type": "code",
      "metadata": {
        "id": "rjR2QnUDWv_p"
      },
      "source": [
        "model = Sequential()\r\n",
        "model.add(Dense(4096, input_shape=(vocab_size,), activation = 'relu', kernel_initializer = 'glorot_normal', kernel_constraint=maxnorm(2)))\r\n",
        "model.add(Dropout(0.1))\r\n",
        "model.add(Dense(1024, kernel_initializer = 'glorot_normal', activation= 'relu'))\r\n",
        "model.add(Dropout(0.1))\r\n",
        "model.add(Dense(num_labels))\r\n",
        "model.add(Activation('softmax'))\r\n",
        "\r\n",
        "model.compile(loss = 'categorical_crossentropy',\r\n",
        "              optimizer = 'sgd',\r\n",
        "              metrics = [metrics.categorical_accuracy, 'accuracy'])"
      ],
      "execution_count": 8,
      "outputs": []
    },
    {
      "cell_type": "code",
      "metadata": {
        "colab": {
          "base_uri": "https://localhost:8080/"
        },
        "id": "pVNgOO1gWv9T",
        "outputId": "ef905819-6ab9-4514-df48-63aa3ca36523"
      },
      "source": [
        "history = model.fit(x_train, y_train,\r\n",
        "                    batch_size=batch_size,\r\n",
        "                    epochs=nb_epoch,\r\n",
        "                    verbose=1,\r\n",
        "                    validation_split=0.1)"
      ],
      "execution_count": 9,
      "outputs": [
        {
          "output_type": "stream",
          "text": [
            "Epoch 1/50\n",
            "225/225 [==============================] - 17s 72ms/step - loss: 2.8635 - categorical_accuracy: 0.1907 - accuracy: 0.1907 - val_loss: 1.7854 - val_categorical_accuracy: 0.5063 - val_accuracy: 0.5063\n",
            "Epoch 2/50\n",
            "225/225 [==============================] - 16s 70ms/step - loss: 1.5120 - categorical_accuracy: 0.5881 - accuracy: 0.5881 - val_loss: 1.4907 - val_categorical_accuracy: 0.5512 - val_accuracy: 0.5512\n",
            "Epoch 3/50\n",
            "225/225 [==============================] - 16s 70ms/step - loss: 1.0326 - categorical_accuracy: 0.7236 - accuracy: 0.7236 - val_loss: 1.3328 - val_categorical_accuracy: 0.6050 - val_accuracy: 0.6050\n",
            "Epoch 4/50\n",
            "225/225 [==============================] - 16s 69ms/step - loss: 0.7472 - categorical_accuracy: 0.8027 - accuracy: 0.8027 - val_loss: 1.2548 - val_categorical_accuracy: 0.6162 - val_accuracy: 0.6162\n",
            "Epoch 5/50\n",
            "225/225 [==============================] - 16s 70ms/step - loss: 0.5624 - categorical_accuracy: 0.8636 - accuracy: 0.8636 - val_loss: 1.2202 - val_categorical_accuracy: 0.6237 - val_accuracy: 0.6237\n",
            "Epoch 6/50\n",
            "225/225 [==============================] - 16s 70ms/step - loss: 0.4539 - categorical_accuracy: 0.8943 - accuracy: 0.8943 - val_loss: 1.2134 - val_categorical_accuracy: 0.6350 - val_accuracy: 0.6350\n",
            "Epoch 7/50\n",
            "225/225 [==============================] - 16s 70ms/step - loss: 0.3509 - categorical_accuracy: 0.9227 - accuracy: 0.9227 - val_loss: 1.2344 - val_categorical_accuracy: 0.6375 - val_accuracy: 0.6375\n",
            "Epoch 8/50\n",
            "225/225 [==============================] - 16s 70ms/step - loss: 0.2989 - categorical_accuracy: 0.9397 - accuracy: 0.9397 - val_loss: 1.2376 - val_categorical_accuracy: 0.6338 - val_accuracy: 0.6338\n",
            "Epoch 9/50\n",
            "225/225 [==============================] - 16s 70ms/step - loss: 0.2484 - categorical_accuracy: 0.9545 - accuracy: 0.9545 - val_loss: 1.2410 - val_categorical_accuracy: 0.6363 - val_accuracy: 0.6363\n",
            "Epoch 10/50\n",
            "225/225 [==============================] - 16s 70ms/step - loss: 0.1994 - categorical_accuracy: 0.9689 - accuracy: 0.9689 - val_loss: 1.2736 - val_categorical_accuracy: 0.6375 - val_accuracy: 0.6375\n",
            "Epoch 11/50\n",
            "225/225 [==============================] - 16s 70ms/step - loss: 0.1834 - categorical_accuracy: 0.9709 - accuracy: 0.9709 - val_loss: 1.2935 - val_categorical_accuracy: 0.6363 - val_accuracy: 0.6363\n",
            "Epoch 12/50\n",
            "225/225 [==============================] - 16s 70ms/step - loss: 0.1493 - categorical_accuracy: 0.9799 - accuracy: 0.9799 - val_loss: 1.3128 - val_categorical_accuracy: 0.6350 - val_accuracy: 0.6350\n",
            "Epoch 13/50\n",
            "225/225 [==============================] - 16s 69ms/step - loss: 0.1394 - categorical_accuracy: 0.9776 - accuracy: 0.9776 - val_loss: 1.3190 - val_categorical_accuracy: 0.6350 - val_accuracy: 0.6350\n",
            "Epoch 14/50\n",
            "225/225 [==============================] - 16s 69ms/step - loss: 0.1234 - categorical_accuracy: 0.9817 - accuracy: 0.9817 - val_loss: 1.3462 - val_categorical_accuracy: 0.6325 - val_accuracy: 0.6325\n",
            "Epoch 15/50\n",
            "225/225 [==============================] - 16s 70ms/step - loss: 0.1137 - categorical_accuracy: 0.9818 - accuracy: 0.9818 - val_loss: 1.3450 - val_categorical_accuracy: 0.6400 - val_accuracy: 0.6400\n",
            "Epoch 16/50\n",
            "225/225 [==============================] - 16s 70ms/step - loss: 0.1030 - categorical_accuracy: 0.9830 - accuracy: 0.9830 - val_loss: 1.3601 - val_categorical_accuracy: 0.6463 - val_accuracy: 0.6463\n",
            "Epoch 17/50\n",
            "225/225 [==============================] - 16s 70ms/step - loss: 0.0987 - categorical_accuracy: 0.9844 - accuracy: 0.9844 - val_loss: 1.3734 - val_categorical_accuracy: 0.6463 - val_accuracy: 0.6463\n",
            "Epoch 18/50\n",
            "225/225 [==============================] - 16s 70ms/step - loss: 0.0966 - categorical_accuracy: 0.9863 - accuracy: 0.9863 - val_loss: 1.3805 - val_categorical_accuracy: 0.6463 - val_accuracy: 0.6463\n",
            "Epoch 19/50\n",
            "225/225 [==============================] - 16s 70ms/step - loss: 0.0850 - categorical_accuracy: 0.9865 - accuracy: 0.9865 - val_loss: 1.3957 - val_categorical_accuracy: 0.6375 - val_accuracy: 0.6375\n",
            "Epoch 20/50\n",
            "225/225 [==============================] - 16s 70ms/step - loss: 0.0803 - categorical_accuracy: 0.9861 - accuracy: 0.9861 - val_loss: 1.4473 - val_categorical_accuracy: 0.6313 - val_accuracy: 0.6313\n",
            "Epoch 21/50\n",
            "225/225 [==============================] - 16s 70ms/step - loss: 0.0817 - categorical_accuracy: 0.9851 - accuracy: 0.9851 - val_loss: 1.4459 - val_categorical_accuracy: 0.6237 - val_accuracy: 0.6237\n",
            "Epoch 22/50\n",
            "225/225 [==============================] - 16s 70ms/step - loss: 0.0694 - categorical_accuracy: 0.9886 - accuracy: 0.9886 - val_loss: 1.4563 - val_categorical_accuracy: 0.6450 - val_accuracy: 0.6450\n",
            "Epoch 23/50\n",
            "225/225 [==============================] - 16s 70ms/step - loss: 0.0706 - categorical_accuracy: 0.9866 - accuracy: 0.9866 - val_loss: 1.4522 - val_categorical_accuracy: 0.6338 - val_accuracy: 0.6338\n",
            "Epoch 24/50\n",
            "225/225 [==============================] - 16s 70ms/step - loss: 0.0661 - categorical_accuracy: 0.9882 - accuracy: 0.9882 - val_loss: 1.4505 - val_categorical_accuracy: 0.6438 - val_accuracy: 0.6438\n",
            "Epoch 25/50\n",
            "225/225 [==============================] - 16s 70ms/step - loss: 0.0675 - categorical_accuracy: 0.9873 - accuracy: 0.9873 - val_loss: 1.4892 - val_categorical_accuracy: 0.6237 - val_accuracy: 0.6237\n",
            "Epoch 26/50\n",
            "225/225 [==============================] - 16s 70ms/step - loss: 0.0576 - categorical_accuracy: 0.9873 - accuracy: 0.9873 - val_loss: 1.4872 - val_categorical_accuracy: 0.6300 - val_accuracy: 0.6300\n",
            "Epoch 27/50\n",
            "225/225 [==============================] - 16s 70ms/step - loss: 0.0590 - categorical_accuracy: 0.9884 - accuracy: 0.9884 - val_loss: 1.4630 - val_categorical_accuracy: 0.6513 - val_accuracy: 0.6513\n",
            "Epoch 28/50\n",
            "225/225 [==============================] - 16s 70ms/step - loss: 0.0664 - categorical_accuracy: 0.9852 - accuracy: 0.9852 - val_loss: 1.5109 - val_categorical_accuracy: 0.6413 - val_accuracy: 0.6413\n",
            "Epoch 29/50\n",
            "225/225 [==============================] - 16s 70ms/step - loss: 0.0585 - categorical_accuracy: 0.9873 - accuracy: 0.9873 - val_loss: 1.5150 - val_categorical_accuracy: 0.6350 - val_accuracy: 0.6350\n",
            "Epoch 30/50\n",
            "225/225 [==============================] - 16s 70ms/step - loss: 0.0609 - categorical_accuracy: 0.9841 - accuracy: 0.9841 - val_loss: 1.5281 - val_categorical_accuracy: 0.6413 - val_accuracy: 0.6413\n",
            "Epoch 31/50\n",
            "225/225 [==============================] - 16s 70ms/step - loss: 0.0580 - categorical_accuracy: 0.9883 - accuracy: 0.9883 - val_loss: 1.5362 - val_categorical_accuracy: 0.6425 - val_accuracy: 0.6425\n",
            "Epoch 32/50\n",
            "225/225 [==============================] - 16s 70ms/step - loss: 0.0568 - categorical_accuracy: 0.9866 - accuracy: 0.9866 - val_loss: 1.5148 - val_categorical_accuracy: 0.6288 - val_accuracy: 0.6288\n",
            "Epoch 33/50\n",
            "225/225 [==============================] - 16s 70ms/step - loss: 0.0488 - categorical_accuracy: 0.9900 - accuracy: 0.9900 - val_loss: 1.5416 - val_categorical_accuracy: 0.6288 - val_accuracy: 0.6288\n",
            "Epoch 34/50\n",
            "225/225 [==============================] - 16s 70ms/step - loss: 0.0590 - categorical_accuracy: 0.9855 - accuracy: 0.9855 - val_loss: 1.5539 - val_categorical_accuracy: 0.6400 - val_accuracy: 0.6400\n",
            "Epoch 35/50\n",
            "225/225 [==============================] - 16s 70ms/step - loss: 0.0504 - categorical_accuracy: 0.9873 - accuracy: 0.9873 - val_loss: 1.5525 - val_categorical_accuracy: 0.6475 - val_accuracy: 0.6475\n",
            "Epoch 36/50\n",
            "225/225 [==============================] - 16s 70ms/step - loss: 0.0569 - categorical_accuracy: 0.9862 - accuracy: 0.9862 - val_loss: 1.5530 - val_categorical_accuracy: 0.6363 - val_accuracy: 0.6363\n",
            "Epoch 37/50\n",
            "225/225 [==============================] - 16s 70ms/step - loss: 0.0426 - categorical_accuracy: 0.9906 - accuracy: 0.9906 - val_loss: 1.6019 - val_categorical_accuracy: 0.6263 - val_accuracy: 0.6263\n",
            "Epoch 38/50\n",
            "225/225 [==============================] - 16s 71ms/step - loss: 0.0547 - categorical_accuracy: 0.9880 - accuracy: 0.9880 - val_loss: 1.5795 - val_categorical_accuracy: 0.6413 - val_accuracy: 0.6413\n",
            "Epoch 39/50\n",
            "225/225 [==============================] - 16s 70ms/step - loss: 0.0461 - categorical_accuracy: 0.9908 - accuracy: 0.9908 - val_loss: 1.5846 - val_categorical_accuracy: 0.6300 - val_accuracy: 0.6300\n",
            "Epoch 40/50\n",
            "225/225 [==============================] - 16s 70ms/step - loss: 0.0557 - categorical_accuracy: 0.9841 - accuracy: 0.9841 - val_loss: 1.5681 - val_categorical_accuracy: 0.6450 - val_accuracy: 0.6450\n",
            "Epoch 41/50\n",
            "225/225 [==============================] - 16s 70ms/step - loss: 0.0483 - categorical_accuracy: 0.9883 - accuracy: 0.9883 - val_loss: 1.6206 - val_categorical_accuracy: 0.6288 - val_accuracy: 0.6288\n",
            "Epoch 42/50\n",
            "225/225 [==============================] - 16s 70ms/step - loss: 0.0427 - categorical_accuracy: 0.9879 - accuracy: 0.9879 - val_loss: 1.6199 - val_categorical_accuracy: 0.6237 - val_accuracy: 0.6237\n",
            "Epoch 43/50\n",
            "225/225 [==============================] - 16s 70ms/step - loss: 0.0485 - categorical_accuracy: 0.9890 - accuracy: 0.9890 - val_loss: 1.5908 - val_categorical_accuracy: 0.6438 - val_accuracy: 0.6438\n",
            "Epoch 44/50\n",
            "225/225 [==============================] - 16s 70ms/step - loss: 0.0503 - categorical_accuracy: 0.9877 - accuracy: 0.9877 - val_loss: 1.5751 - val_categorical_accuracy: 0.6325 - val_accuracy: 0.6325\n",
            "Epoch 45/50\n",
            "225/225 [==============================] - 16s 70ms/step - loss: 0.0420 - categorical_accuracy: 0.9900 - accuracy: 0.9900 - val_loss: 1.5834 - val_categorical_accuracy: 0.6350 - val_accuracy: 0.6350\n",
            "Epoch 46/50\n",
            "225/225 [==============================] - 16s 70ms/step - loss: 0.0402 - categorical_accuracy: 0.9893 - accuracy: 0.9893 - val_loss: 1.5945 - val_categorical_accuracy: 0.6350 - val_accuracy: 0.6350\n",
            "Epoch 47/50\n",
            "225/225 [==============================] - 16s 70ms/step - loss: 0.0470 - categorical_accuracy: 0.9877 - accuracy: 0.9877 - val_loss: 1.6251 - val_categorical_accuracy: 0.6350 - val_accuracy: 0.6350\n",
            "Epoch 48/50\n",
            "225/225 [==============================] - 16s 70ms/step - loss: 0.0399 - categorical_accuracy: 0.9902 - accuracy: 0.9902 - val_loss: 1.6490 - val_categorical_accuracy: 0.6313 - val_accuracy: 0.6313\n",
            "Epoch 49/50\n",
            "225/225 [==============================] - 16s 70ms/step - loss: 0.0452 - categorical_accuracy: 0.9874 - accuracy: 0.9874 - val_loss: 1.6552 - val_categorical_accuracy: 0.6313 - val_accuracy: 0.6313\n",
            "Epoch 50/50\n",
            "225/225 [==============================] - 16s 70ms/step - loss: 0.0466 - categorical_accuracy: 0.9876 - accuracy: 0.9876 - val_loss: 1.6195 - val_categorical_accuracy: 0.6388 - val_accuracy: 0.6388\n"
          ],
          "name": "stdout"
        }
      ]
    },
    {
      "cell_type": "code",
      "metadata": {
        "colab": {
          "base_uri": "https://localhost:8080/",
          "height": 573
        },
        "id": "cJrYVMKNWv37",
        "outputId": "e2b25807-025c-4822-9b22-1f1edfb4ec02"
      },
      "source": [
        "import matplotlib.pyplot as plt\r\n",
        "plt.plot(history.history['accuracy'])\r\n",
        "plt.plot(history.history['val_accuracy'])\r\n",
        "plt.title('model accuracy')\r\n",
        "plt.ylabel('accuracy')\r\n",
        "plt.xlabel('epoch')\r\n",
        "plt.legend(['train', 'test'], loc='upper left')\r\n",
        "plt.show()\r\n",
        "\r\n",
        "plt.plot(history.history['loss'])\r\n",
        "plt.plot(history.history['val_loss'])\r\n",
        "plt.title('model loss')\r\n",
        "plt.ylabel('loss')\r\n",
        "plt.xlabel('epoch')\r\n",
        "plt.legend(['train', 'test'], loc='upper left')\r\n",
        "plt.show()"
      ],
      "execution_count": 21,
      "outputs": [
        {
          "output_type": "display_data",
          "data": {
            "image/png": "[encoded data removed]",
            "text/plain": [
              "<Figure size 432x288 with 1 Axes>"
            ]
          },
          "metadata": {
            "tags": [],
            "needs_background": "light"
          }
        },
        {
          "output_type": "display_data",
          "data": {
            "image/png": "[encoded data removed]",
            "text/plain": [
              "<Figure size 432x288 with 1 Axes>"
            ]
          },
          "metadata": {
            "tags": [],
            "needs_background": "light"
          }
        }
      ]
    },
    {
      "cell_type": "code",
      "metadata": {
        "colab": {
          "base_uri": "https://localhost:8080/"
        },
        "id": "ry98kj158m1j",
        "outputId": "d2611942-242d-4a64-ba88-85ba34924a55"
      },
      "source": [
        "print(\"Quais são as suas habilidades profissionais?\")\r\n",
        "sentence = input(\"-> \")\r\n",
        "\r\n",
        "# Encode the text\r\n",
        "encoded_docs = [one_hot(sentence, 1000)]\r\n",
        "# pad documents to a max length\r\n",
        "padded_text = pad_sequences(encoded_docs, maxlen=1000, padding='post')\r\n",
        "# Prediction based on model\r\n",
        "prediction = model.predict(padded_text)\r\n",
        "\r\n",
        "encoder = LabelBinarizer()\r\n",
        "encoder.fit(test_labels)\r\n",
        "result = encoder.inverse_transform(prediction)\r\n",
        "\r\n",
        "print(\"Seu emprego pode ser:\", result[0])"
      ],
      "execution_count": 29,
      "outputs": [
        {
          "output_type": "stream",
          "text": [
            "Quais são as suas habilidades profissionais?\n",
            "-> mathematics\n",
            "Seu emprego pode ser: Statistics\n"
          ],
          "name": "stdout"
        }
      ]
    },
    {
      "cell_type": "code",
      "metadata": {
        "id": "ILPLDOXzQvWn"
      },
      "source": [
        ""
      ],
      "execution_count": null,
      "outputs": []
    },
    {
      "cell_type": "code",
      "metadata": {
        "id": "gdrn-2jUQvTW"
      },
      "source": [
        ""
      ],
      "execution_count": null,
      "outputs": []
    },
    {
      "cell_type": "code",
      "metadata": {
        "id": "qDgqqKtDQz43"
      },
      "source": [
        ""
      ],
      "execution_count": null,
      "outputs": []
    }
  ]
}